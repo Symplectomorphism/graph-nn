{
 "cells": [
  {
   "cell_type": "code",
   "execution_count": 5,
   "metadata": {},
   "outputs": [],
   "source": [
    "import math\n",
    "import time\n",
    "\n",
    "import torch\n",
    "import torch.nn as nn\n",
    "from net import gtnet\n",
    "import numpy as np\n",
    "from util import *\n",
    "\n",
    "file_path = './model/model-try.pt'\n",
    "model = torch.load(file_path)"
   ]
  },
  {
   "cell_type": "code",
   "execution_count": 10,
   "metadata": {},
   "outputs": [
    {
     "name": "stdout",
     "output_type": "stream",
     "text": [
      "The receptive field size is 187\n",
      "Number of model parameters is 337265\n"
     ]
    }
   ],
   "source": [
    "device = 'cuda:0'\n",
    "data = './data/alldata.csv'\n",
    "horizon = 3\n",
    "normalize = 2\n",
    "seq_in_len = 24*7\n",
    "num_nodes = 7\n",
    "subgraph_size = 2\n",
    "batch_size = 16\n",
    "num_split = 3\n",
    "\n",
    "Data = DataLoaderS(data, 0.6, 0.2, device, horizon, seq_in_len, normalize)\n",
    "model = model.to(device)\n",
    "\n",
    "print('The receptive field size is', model.receptive_field)\n",
    "nParams = sum([p.nelement() for p in model.parameters()])\n",
    "print('Number of model parameters is', nParams, flush=True)"
   ]
  },
  {
   "cell_type": "code",
   "execution_count": 14,
   "metadata": {},
   "outputs": [],
   "source": [
    "evaluateL2 = nn.MSELoss(reduction='sum').to(device)\n",
    "evaluateL1 = nn.L1Loss(reduction='sum').to(device)"
   ]
  },
  {
   "cell_type": "code",
   "execution_count": 12,
   "metadata": {},
   "outputs": [],
   "source": [
    "def evaluate(data, X, Y, model, evaluateL2, evaluateL1, batch_size):\n",
    "    model.eval()\n",
    "    total_loss = 0\n",
    "    total_loss_l1 = 0\n",
    "    n_samples = 0\n",
    "    predict = None\n",
    "    test = None\n",
    "\n",
    "    for X, Y in data.get_batches(X, Y, batch_size, False):\n",
    "        X = torch.unsqueeze(X,dim=1)\n",
    "        X = X.transpose(2,3)\n",
    "        with torch.no_grad():\n",
    "            output = model(X)\n",
    "        output = torch.squeeze(output)\n",
    "        if len(output.shape)==1:\n",
    "            output = output.unsqueeze(dim=0)\n",
    "        if predict is None:\n",
    "            predict = output\n",
    "            test = Y\n",
    "        else:\n",
    "            predict = torch.cat((predict, output))\n",
    "            test = torch.cat((test, Y))\n",
    "\n",
    "        scale = data.scale.expand(output.size(0), data.m)\n",
    "        total_loss += evaluateL2(output * scale, Y * scale).item()\n",
    "        total_loss_l1 += evaluateL1(output * scale, Y * scale).item()\n",
    "        n_samples += (output.size(0) * data.m)\n",
    "\n",
    "    rse = math.sqrt(total_loss / n_samples) / data.rse\n",
    "    rae = (total_loss_l1 / n_samples) / data.rae\n",
    "\n",
    "    predict = predict.data.cpu().numpy()\n",
    "    Ytest = test.data.cpu().numpy()\n",
    "    sigma_p = (predict).std(axis=0)\n",
    "    sigma_g = (Ytest).std(axis=0)\n",
    "    mean_p = predict.mean(axis=0)\n",
    "    mean_g = Ytest.mean(axis=0)\n",
    "    index = (sigma_g != 0)\n",
    "    correlation = ((predict - mean_p) * (Ytest - mean_g)).mean(axis=0) / (sigma_p * sigma_g)\n",
    "    correlation = (correlation[index]).mean()\n",
    "    return rse, rae, correlation"
   ]
  },
  {
   "cell_type": "code",
   "execution_count": 16,
   "metadata": {},
   "outputs": [
    {
     "name": "stdout",
     "output_type": "stream",
     "text": [
      "test rse 0.1139 | test rae 0.0676 | test corr 0.9492\n"
     ]
    }
   ],
   "source": [
    "test_acc, test_rae, test_corr = evaluate(Data, Data.test[0], Data.test[1], model, evaluateL2, evaluateL1, batch_size)\n",
    "print(\"test rse {:5.4f} | test rae {:5.4f} | test corr {:5.4f}\".format(test_acc, test_rae, test_corr), flush=True)"
   ]
  },
  {
   "cell_type": "code",
   "execution_count": null,
   "metadata": {},
   "outputs": [],
   "source": []
  }
 ],
 "metadata": {
  "kernelspec": {
   "display_name": "graph-nn",
   "language": "python",
   "name": "python3"
  },
  "language_info": {
   "codemirror_mode": {
    "name": "ipython",
    "version": 3
   },
   "file_extension": ".py",
   "mimetype": "text/x-python",
   "name": "python",
   "nbconvert_exporter": "python",
   "pygments_lexer": "ipython3",
   "version": "3.10.13"
  }
 },
 "nbformat": 4,
 "nbformat_minor": 2
}
