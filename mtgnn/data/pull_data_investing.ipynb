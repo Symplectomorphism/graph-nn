{
 "cells": [
  {
   "cell_type": "code",
   "execution_count": 1,
   "metadata": {},
   "outputs": [],
   "source": [
    "%matplotlib inline\n",
    "\n",
    "# import yfinance as yf\n",
    "import investpy as inv\n",
    "import numpy as np\n",
    "import pandas as pd\n",
    "pd.options.mode.chained_assignment = None\n",
    "import matplotlib.pyplot as plt\n",
    "import datetime as dt\n",
    "from dateutil.relativedelta import relativedelta"
   ]
  },
  {
   "cell_type": "code",
   "execution_count": 5,
   "metadata": {},
   "outputs": [],
   "source": [
    "from_date = '03/01/2005'\n",
    "to_date = dt.datetime.today().strftime('%d/%m/%Y')\n",
    "# to_date = '12/08/2024'"
   ]
  },
  {
   "cell_type": "code",
   "execution_count": 6,
   "metadata": {},
   "outputs": [
    {
     "ename": "ConnectionError",
     "evalue": "ERR#0015: error 403, try again later.",
     "output_type": "error",
     "traceback": [
      "\u001b[0;31m---------------------------------------------------------------------------\u001b[0m",
      "\u001b[0;31mConnectionError\u001b[0m                           Traceback (most recent call last)",
      "Cell \u001b[0;32mIn[6], line 1\u001b[0m\n\u001b[0;32m----> 1\u001b[0m mexico \u001b[38;5;241m=\u001b[39m \u001b[43minv\u001b[49m\u001b[38;5;241;43m.\u001b[39;49m\u001b[43mget_index_historical_data\u001b[49m\u001b[43m(\u001b[49m\u001b[43mindex\u001b[49m\u001b[38;5;241;43m=\u001b[39;49m\u001b[38;5;124;43m'\u001b[39;49m\u001b[38;5;124;43mS&P/BMV IPC\u001b[39;49m\u001b[38;5;124;43m'\u001b[39;49m\u001b[43m,\u001b[49m\u001b[43m \u001b[49m\u001b[43mcountry\u001b[49m\u001b[38;5;241;43m=\u001b[39;49m\u001b[38;5;124;43m'\u001b[39;49m\u001b[38;5;124;43mmexico\u001b[39;49m\u001b[38;5;124;43m'\u001b[39;49m\u001b[43m,\u001b[49m\u001b[43m \u001b[49m\u001b[43mfrom_date\u001b[49m\u001b[38;5;241;43m=\u001b[39;49m\u001b[43mfrom_date\u001b[49m\u001b[43m,\u001b[49m\u001b[43m \u001b[49m\u001b[43mto_date\u001b[49m\u001b[38;5;241;43m=\u001b[39;49m\u001b[43mto_date\u001b[49m\u001b[43m)\u001b[49m\n\u001b[1;32m      2\u001b[0m indonesia \u001b[38;5;241m=\u001b[39m inv\u001b[38;5;241m.\u001b[39mget_index_historical_data(index\u001b[38;5;241m=\u001b[39m\u001b[38;5;124m'\u001b[39m\u001b[38;5;124mIDX Composite\u001b[39m\u001b[38;5;124m'\u001b[39m, country\u001b[38;5;241m=\u001b[39m\u001b[38;5;124m'\u001b[39m\u001b[38;5;124mindonesia\u001b[39m\u001b[38;5;124m'\u001b[39m, from_date\u001b[38;5;241m=\u001b[39mfrom_date, to_date\u001b[38;5;241m=\u001b[39mto_date)\n\u001b[1;32m      3\u001b[0m nigeria \u001b[38;5;241m=\u001b[39m inv\u001b[38;5;241m.\u001b[39mget_index_historical_data(index\u001b[38;5;241m=\u001b[39m\u001b[38;5;124m'\u001b[39m\u001b[38;5;124mNSE 30\u001b[39m\u001b[38;5;124m'\u001b[39m, country\u001b[38;5;241m=\u001b[39m\u001b[38;5;124m'\u001b[39m\u001b[38;5;124mnigeria\u001b[39m\u001b[38;5;124m'\u001b[39m, from_date\u001b[38;5;241m=\u001b[39mfrom_date, to_date\u001b[38;5;241m=\u001b[39mto_date)\n",
      "File \u001b[0;32m~/mambaforge/envs/graph-nn/lib/python3.10/site-packages/investpy/indices.py:649\u001b[0m, in \u001b[0;36mget_index_historical_data\u001b[0;34m(index, country, from_date, to_date, as_json, order, interval)\u001b[0m\n\u001b[1;32m    646\u001b[0m req \u001b[38;5;241m=\u001b[39m requests\u001b[38;5;241m.\u001b[39mpost(url, headers\u001b[38;5;241m=\u001b[39mhead, data\u001b[38;5;241m=\u001b[39mparams)\n\u001b[1;32m    648\u001b[0m \u001b[38;5;28;01mif\u001b[39;00m req\u001b[38;5;241m.\u001b[39mstatus_code \u001b[38;5;241m!=\u001b[39m \u001b[38;5;241m200\u001b[39m:\n\u001b[0;32m--> 649\u001b[0m     \u001b[38;5;28;01mraise\u001b[39;00m \u001b[38;5;167;01mConnectionError\u001b[39;00m(\n\u001b[1;32m    650\u001b[0m         \u001b[38;5;124m\"\u001b[39m\u001b[38;5;124mERR#0015: error \u001b[39m\u001b[38;5;124m\"\u001b[39m \u001b[38;5;241m+\u001b[39m \u001b[38;5;28mstr\u001b[39m(req\u001b[38;5;241m.\u001b[39mstatus_code) \u001b[38;5;241m+\u001b[39m \u001b[38;5;124m\"\u001b[39m\u001b[38;5;124m, try again later.\u001b[39m\u001b[38;5;124m\"\u001b[39m\n\u001b[1;32m    651\u001b[0m     )\n\u001b[1;32m    653\u001b[0m \u001b[38;5;28;01mif\u001b[39;00m \u001b[38;5;129;01mnot\u001b[39;00m req\u001b[38;5;241m.\u001b[39mtext:\n\u001b[1;32m    654\u001b[0m     \u001b[38;5;28;01mcontinue\u001b[39;00m\n",
      "\u001b[0;31mConnectionError\u001b[0m: ERR#0015: error 403, try again later."
     ]
    }
   ],
   "source": [
    "mexico = inv.get_index_historical_data(index='S&P/BMV IPC', country='mexico', from_date=from_date, to_date=to_date)\n",
    "indonesia = inv.get_index_historical_data(index='IDX Composite', country='indonesia', from_date=from_date, to_date=to_date)\n",
    "nigeria = inv.get_index_historical_data(index='NSE 30', country='nigeria', from_date=from_date, to_date=to_date)\n",
    "canada = inv.get_index_historical_data(index='S&P/TSX', country='canada', from_date=from_date, to_date=to_date)\n",
    "france = inv.get_index_historical_data(index='CAC 40', country='france', from_date=from_date, to_date=to_date)\n",
    "germany = inv.get_index_historical_data(index='DAX', country='germany', from_date=from_date, to_date=to_date)\n",
    "italy = inv.get_index_historical_data(index='FTSE MIB', country='italy', from_date=from_date, to_date=to_date)\n",
    "japan = inv.get_index_historical_data(index='Nikkei 225', country='japan', from_date=from_date, to_date=to_date)\n",
    "uk = inv.get_index_historical_data(index='FTSE 100', country='united kingdom', from_date=from_date, to_date=to_date)\n",
    "us = inv.get_index_historical_data(index='S&P 500', country='united states', from_date=from_date, to_date=to_date)\n",
    "turkey = inv.get_index_historical_data(index='BIST 100', country='turkey', from_date=from_date, to_date=to_date)"
   ]
  },
  {
   "cell_type": "code",
   "execution_count": null,
   "metadata": {},
   "outputs": [
    {
     "data": {
      "text/plain": [
       "Date\n",
       "2005-01-03      254.45\n",
       "2005-01-04      250.42\n",
       "2005-01-05      244.23\n",
       "2005-01-06      245.62\n",
       "2005-01-07      253.08\n",
       "                ...   \n",
       "2024-08-06     9881.23\n",
       "2024-08-07    10024.31\n",
       "2024-08-08    10098.50\n",
       "2024-08-09     9907.38\n",
       "2024-08-12     9828.56\n",
       "Name: Close, Length: 4926, dtype: float64"
      ]
     },
     "execution_count": 31,
     "metadata": {},
     "output_type": "execute_result"
    }
   ],
   "source": [
    "turkey['Close']"
   ]
  },
  {
   "cell_type": "code",
   "execution_count": 4,
   "metadata": {},
   "outputs": [
    {
     "ename": "NameError",
     "evalue": "name 'mexico' is not defined",
     "output_type": "error",
     "traceback": [
      "\u001b[0;31m---------------------------------------------------------------------------\u001b[0m",
      "\u001b[0;31mNameError\u001b[0m                                 Traceback (most recent call last)",
      "Cell \u001b[0;32mIn[4], line 1\u001b[0m\n\u001b[0;32m----> 1\u001b[0m df \u001b[38;5;241m=\u001b[39m pd\u001b[38;5;241m.\u001b[39mconcat([\u001b[43mmexico\u001b[49m[\u001b[38;5;124m'\u001b[39m\u001b[38;5;124mClose\u001b[39m\u001b[38;5;124m'\u001b[39m], indonesia[\u001b[38;5;124m'\u001b[39m\u001b[38;5;124mClose\u001b[39m\u001b[38;5;124m'\u001b[39m], nigeria[\u001b[38;5;124m'\u001b[39m\u001b[38;5;124mClose\u001b[39m\u001b[38;5;124m'\u001b[39m], canada[\u001b[38;5;124m'\u001b[39m\u001b[38;5;124mClose\u001b[39m\u001b[38;5;124m'\u001b[39m], france[\u001b[38;5;124m'\u001b[39m\u001b[38;5;124mClose\u001b[39m\u001b[38;5;124m'\u001b[39m], germany[\u001b[38;5;124m'\u001b[39m\u001b[38;5;124mClose\u001b[39m\u001b[38;5;124m'\u001b[39m], italy[\u001b[38;5;124m'\u001b[39m\u001b[38;5;124mClose\u001b[39m\u001b[38;5;124m'\u001b[39m], japan[\u001b[38;5;124m'\u001b[39m\u001b[38;5;124mClose\u001b[39m\u001b[38;5;124m'\u001b[39m], uk[\u001b[38;5;124m'\u001b[39m\u001b[38;5;124mClose\u001b[39m\u001b[38;5;124m'\u001b[39m], us[\u001b[38;5;124m'\u001b[39m\u001b[38;5;124mClose\u001b[39m\u001b[38;5;124m'\u001b[39m], turkey[\u001b[38;5;124m'\u001b[39m\u001b[38;5;124mClose\u001b[39m\u001b[38;5;124m'\u001b[39m]], axis\u001b[38;5;241m=\u001b[39m\u001b[38;5;241m1\u001b[39m)\n\u001b[1;32m      2\u001b[0m df\n",
      "\u001b[0;31mNameError\u001b[0m: name 'mexico' is not defined"
     ]
    }
   ],
   "source": [
    "df = pd.concat([mexico['Close'], indonesia['Close'], nigeria['Close'], canada['Close'], france['Close'], germany['Close'], italy['Close'], japan['Close'], uk['Close'], us['Close'], turkey['Close']], axis=1)\n",
    "df"
   ]
  },
  {
   "cell_type": "code",
   "execution_count": null,
   "metadata": {},
   "outputs": [
    {
     "data": {
      "text/plain": [
       "DatetimeIndex(['2005-01-03', '2005-01-04', '2005-01-05', '2005-01-06',\n",
       "               '2005-01-07', '2005-01-08', '2005-01-09', '2005-01-10',\n",
       "               '2005-01-11', '2005-01-12',\n",
       "               ...\n",
       "               '2024-08-03', '2024-08-04', '2024-08-05', '2024-08-06',\n",
       "               '2024-08-07', '2024-08-08', '2024-08-09', '2024-08-10',\n",
       "               '2024-08-11', '2024-08-12'],\n",
       "              dtype='datetime64[ns]', length=7162, freq='D')"
      ]
     },
     "execution_count": 26,
     "metadata": {},
     "output_type": "execute_result"
    }
   ],
   "source": [
    "idx = pd.date_range(\n",
    "    df.index[0].date(),\n",
    "    df.index[-1].date()\n",
    ")\n",
    "idx"
   ]
  },
  {
   "cell_type": "code",
   "execution_count": null,
   "metadata": {},
   "outputs": [],
   "source": [
    "pd.DataFrame.to_csv(df.round(6), 'indices.csv', index=False, header=False)\n",
    "# pd.DataFrame.to_csv(data.round(6), 'alldata.txt', index=False, header=False, sep=',')"
   ]
  },
  {
   "cell_type": "code",
   "execution_count": null,
   "metadata": {},
   "outputs": [],
   "source": []
  }
 ],
 "metadata": {
  "kernelspec": {
   "display_name": "graph-nn",
   "language": "python",
   "name": "python3"
  },
  "language_info": {
   "codemirror_mode": {
    "name": "ipython",
    "version": 3
   },
   "file_extension": ".py",
   "mimetype": "text/x-python",
   "name": "python",
   "nbconvert_exporter": "python",
   "pygments_lexer": "ipython3",
   "version": "3.10.13"
  }
 },
 "nbformat": 4,
 "nbformat_minor": 2
}
