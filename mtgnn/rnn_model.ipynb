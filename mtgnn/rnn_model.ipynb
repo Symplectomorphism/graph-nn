{
 "cells": [
  {
   "cell_type": "code",
   "execution_count": 275,
   "metadata": {},
   "outputs": [],
   "source": [
    "import math\n",
    "import time\n",
    "\n",
    "import datetime as dt\n",
    "import pandas as pd\n",
    "import matplotlib.pyplot as plt\n",
    "plt.rcParams.update({\n",
    "    \"text.usetex\": True,\n",
    "    \"font.family\": \"sans-serif\",\n",
    "    \"font.sans-serif\": \"Helvetica\",\n",
    "    \"text.latex.preamble\": r\"\\usepackage{cmbright}\",\n",
    "    \"text.latex.preamble\": r\"\\usepackage{bm}\",\n",
    "    \"font.weight\": \"bold\",\n",
    "})\n",
    "import networkx as nx\n",
    "import torch\n",
    "import torch.nn as nn\n",
    "import numpy as np\n",
    "from util import *\n",
    "from generate_index_data import get_stock_data\n",
    "\n",
    "from darts import TimeSeries\n",
    "from darts import concatenate\n",
    "from darts.models import RNNModel, TCNModel, TransformerModel, NBEATSModel\n",
    "\n",
    "from torchmetrics import MetricCollection\n",
    "from torchmetrics.regression import RelativeSquaredError, MeanSquaredError, MeanAbsoluteError, WeightedMeanAbsolutePercentageError"
   ]
  },
  {
   "cell_type": "code",
   "execution_count": 72,
   "metadata": {},
   "outputs": [
    {
     "name": "stderr",
     "output_type": "stream",
     "text": [
      "[*********************100%%**********************]  10 of 10 completed\n",
      "/home/acs/repos/research/graph-nn/mtgnn/generate_index_data.py:23: FutureWarning: ChainedAssignmentError: behaviour will change in pandas 3.0!\n",
      "You are setting values through chained assignment. Currently this works in certain cases, but when using Copy-on-Write (which will become the default behaviour in pandas 3.0) this will never work to update the original DataFrame or Series, because the intermediate object on which we are setting values will behave as a copy.\n",
      "A typical example is when you are setting values in a column of a DataFrame, like:\n",
      "\n",
      "df[\"col\"][row_indexer] = value\n",
      "\n",
      "Use `df.loc[row_indexer, \"col\"] = values` instead, to perform the assignment in a single step and ensure this keeps updating the original `df`.\n",
      "\n",
      "See the caveats in the documentation: https://pandas.pydata.org/pandas-docs/stable/user_guide/indexing.html#returning-a-view-versus-a-copy\n",
      "\n",
      "  nse30['Open'].iloc[i] = locale.atof(nse30['Open'].iloc[i])\n",
      "/home/acs/repos/research/graph-nn/mtgnn/generate_index_data.py:32: FutureWarning: Downcasting object dtype arrays on .fillna, .ffill, .bfill is deprecated and will change in a future version. Call result.infer_objects(copy=False) instead. To opt-in to the future behavior, set `pd.set_option('future.no_silent_downcasting', True)`\n",
      "  nse30 = nse30.reindex(idx, fill_value=np.nan).ffill()\n"
     ]
    }
   ],
   "source": [
    "original_data = get_stock_data(dt.datetime(2005, 1, 3), dt.datetime(2024, 8, 15))\n",
    "\n",
    "data = './data/indices.csv'\n",
    "device = 'cpu'\n",
    "horizon = 3\n",
    "seq_in_len = 24*7\n",
    "normalize = 2\n",
    "\n",
    "Data = DataLoaderS(data, 0.6, 0.2, device, horizon, seq_in_len, normalize)"
   ]
  },
  {
   "cell_type": "code",
   "execution_count": 73,
   "metadata": {},
   "outputs": [
    {
     "data": {
      "text/html": [
       "<div>\n",
       "<style scoped>\n",
       "    .dataframe tbody tr th:only-of-type {\n",
       "        vertical-align: middle;\n",
       "    }\n",
       "\n",
       "    .dataframe tbody tr th {\n",
       "        vertical-align: top;\n",
       "    }\n",
       "\n",
       "    .dataframe thead th {\n",
       "        text-align: right;\n",
       "    }\n",
       "</style>\n",
       "<table border=\"1\" class=\"dataframe\">\n",
       "  <thead>\n",
       "    <tr style=\"text-align: right;\">\n",
       "      <th>Ticker</th>\n",
       "      <th>FTSEMIB.MI</th>\n",
       "      <th>XU100.IS</th>\n",
       "      <th>^FCHI</th>\n",
       "      <th>^FTSE</th>\n",
       "      <th>^GDAXI</th>\n",
       "      <th>^GSPC</th>\n",
       "      <th>^GSPTSE</th>\n",
       "      <th>^JKSE</th>\n",
       "      <th>^MXX</th>\n",
       "      <th>^N225</th>\n",
       "      <th>NSE30</th>\n",
       "    </tr>\n",
       "  </thead>\n",
       "  <tbody>\n",
       "    <tr>\n",
       "      <th>2012-01-30</th>\n",
       "      <td>9.670104</td>\n",
       "      <td>6.346582</td>\n",
       "      <td>8.100459</td>\n",
       "      <td>8.654081</td>\n",
       "      <td>8.772539</td>\n",
       "      <td>7.182474</td>\n",
       "      <td>9.423167</td>\n",
       "      <td>8.290579</td>\n",
       "      <td>10.523347</td>\n",
       "      <td>9.082938</td>\n",
       "      <td>6.841754</td>\n",
       "    </tr>\n",
       "    <tr>\n",
       "      <th>2012-01-31</th>\n",
       "      <td>9.676524</td>\n",
       "      <td>6.367092</td>\n",
       "      <td>8.099254</td>\n",
       "      <td>8.643138</td>\n",
       "      <td>8.777870</td>\n",
       "      <td>7.180473</td>\n",
       "      <td>9.434963</td>\n",
       "      <td>8.272474</td>\n",
       "      <td>10.525650</td>\n",
       "      <td>9.080396</td>\n",
       "      <td>6.833269</td>\n",
       "    </tr>\n",
       "    <tr>\n",
       "      <th>2012-02-01</th>\n",
       "      <td>9.670483</td>\n",
       "      <td>6.347034</td>\n",
       "      <td>8.107816</td>\n",
       "      <td>8.644988</td>\n",
       "      <td>8.776931</td>\n",
       "      <td>7.179651</td>\n",
       "      <td>9.434340</td>\n",
       "      <td>8.279388</td>\n",
       "      <td>10.530099</td>\n",
       "      <td>9.081263</td>\n",
       "      <td>6.842363</td>\n",
       "    </tr>\n",
       "    <tr>\n",
       "      <th>2012-02-02</th>\n",
       "      <td>9.701616</td>\n",
       "      <td>6.383964</td>\n",
       "      <td>8.127591</td>\n",
       "      <td>8.664008</td>\n",
       "      <td>8.800875</td>\n",
       "      <td>7.188594</td>\n",
       "      <td>9.434699</td>\n",
       "      <td>8.285369</td>\n",
       "      <td>10.537666</td>\n",
       "      <td>9.089898</td>\n",
       "      <td>6.841808</td>\n",
       "    </tr>\n",
       "    <tr>\n",
       "      <th>2012-02-03</th>\n",
       "      <td>9.695971</td>\n",
       "      <td>6.394797</td>\n",
       "      <td>8.122855</td>\n",
       "      <td>8.664941</td>\n",
       "      <td>8.802307</td>\n",
       "      <td>7.190080</td>\n",
       "      <td>9.439919</td>\n",
       "      <td>8.298199</td>\n",
       "      <td>10.537736</td>\n",
       "      <td>9.088079</td>\n",
       "      <td>6.843878</td>\n",
       "    </tr>\n",
       "    <tr>\n",
       "      <th>...</th>\n",
       "      <td>...</td>\n",
       "      <td>...</td>\n",
       "      <td>...</td>\n",
       "      <td>...</td>\n",
       "      <td>...</td>\n",
       "      <td>...</td>\n",
       "      <td>...</td>\n",
       "      <td>...</td>\n",
       "      <td>...</td>\n",
       "      <td>...</td>\n",
       "      <td>...</td>\n",
       "    </tr>\n",
       "    <tr>\n",
       "      <th>2024-08-10</th>\n",
       "      <td>10.367662</td>\n",
       "      <td>9.226214</td>\n",
       "      <td>8.890094</td>\n",
       "      <td>9.005160</td>\n",
       "      <td>9.779788</td>\n",
       "      <td>8.578224</td>\n",
       "      <td>10.009891</td>\n",
       "      <td>8.884608</td>\n",
       "      <td>10.875643</td>\n",
       "      <td>10.470854</td>\n",
       "      <td>8.194414</td>\n",
       "    </tr>\n",
       "    <tr>\n",
       "      <th>2024-08-11</th>\n",
       "      <td>10.367662</td>\n",
       "      <td>9.226214</td>\n",
       "      <td>8.890094</td>\n",
       "      <td>9.005160</td>\n",
       "      <td>9.779788</td>\n",
       "      <td>8.578224</td>\n",
       "      <td>10.009891</td>\n",
       "      <td>8.884608</td>\n",
       "      <td>10.875643</td>\n",
       "      <td>10.470854</td>\n",
       "      <td>8.194414</td>\n",
       "    </tr>\n",
       "    <tr>\n",
       "      <th>2024-08-12</th>\n",
       "      <td>10.370016</td>\n",
       "      <td>9.208358</td>\n",
       "      <td>8.895197</td>\n",
       "      <td>9.007992</td>\n",
       "      <td>9.786056</td>\n",
       "      <td>8.585203</td>\n",
       "      <td>10.014197</td>\n",
       "      <td>8.890844</td>\n",
       "      <td>10.879662</td>\n",
       "      <td>10.470854</td>\n",
       "      <td>8.199714</td>\n",
       "    </tr>\n",
       "    <tr>\n",
       "      <th>2024-08-13</th>\n",
       "      <td>10.375926</td>\n",
       "      <td>9.194435</td>\n",
       "      <td>8.892570</td>\n",
       "      <td>9.013145</td>\n",
       "      <td>9.786935</td>\n",
       "      <td>8.589882</td>\n",
       "      <td>10.018587</td>\n",
       "      <td>8.897878</td>\n",
       "      <td>10.881535</td>\n",
       "      <td>10.477023</td>\n",
       "      <td>8.192930</td>\n",
       "    </tr>\n",
       "    <tr>\n",
       "      <th>2024-08-14</th>\n",
       "      <td>10.379349</td>\n",
       "      <td>9.208008</td>\n",
       "      <td>8.899753</td>\n",
       "      <td>9.016173</td>\n",
       "      <td>9.791560</td>\n",
       "      <td>8.601968</td>\n",
       "      <td>10.026630</td>\n",
       "      <td>8.906123</td>\n",
       "      <td>10.890416</td>\n",
       "      <td>10.506042</td>\n",
       "      <td>8.190157</td>\n",
       "    </tr>\n",
       "  </tbody>\n",
       "</table>\n",
       "<p>4581 rows × 11 columns</p>\n",
       "</div>"
      ],
      "text/plain": [
       "Ticker      FTSEMIB.MI  XU100.IS     ^FCHI     ^FTSE    ^GDAXI     ^GSPC  \\\n",
       "2012-01-30    9.670104  6.346582  8.100459  8.654081  8.772539  7.182474   \n",
       "2012-01-31    9.676524  6.367092  8.099254  8.643138  8.777870  7.180473   \n",
       "2012-02-01    9.670483  6.347034  8.107816  8.644988  8.776931  7.179651   \n",
       "2012-02-02    9.701616  6.383964  8.127591  8.664008  8.800875  7.188594   \n",
       "2012-02-03    9.695971  6.394797  8.122855  8.664941  8.802307  7.190080   \n",
       "...                ...       ...       ...       ...       ...       ...   \n",
       "2024-08-10   10.367662  9.226214  8.890094  9.005160  9.779788  8.578224   \n",
       "2024-08-11   10.367662  9.226214  8.890094  9.005160  9.779788  8.578224   \n",
       "2024-08-12   10.370016  9.208358  8.895197  9.007992  9.786056  8.585203   \n",
       "2024-08-13   10.375926  9.194435  8.892570  9.013145  9.786935  8.589882   \n",
       "2024-08-14   10.379349  9.208008  8.899753  9.016173  9.791560  8.601968   \n",
       "\n",
       "Ticker        ^GSPTSE     ^JKSE       ^MXX      ^N225     NSE30  \n",
       "2012-01-30   9.423167  8.290579  10.523347   9.082938  6.841754  \n",
       "2012-01-31   9.434963  8.272474  10.525650   9.080396  6.833269  \n",
       "2012-02-01   9.434340  8.279388  10.530099   9.081263  6.842363  \n",
       "2012-02-02   9.434699  8.285369  10.537666   9.089898  6.841808  \n",
       "2012-02-03   9.439919  8.298199  10.537736   9.088079  6.843878  \n",
       "...               ...       ...        ...        ...       ...  \n",
       "2024-08-10  10.009891  8.884608  10.875643  10.470854  8.194414  \n",
       "2024-08-11  10.009891  8.884608  10.875643  10.470854  8.194414  \n",
       "2024-08-12  10.014197  8.890844  10.879662  10.470854  8.199714  \n",
       "2024-08-13  10.018587  8.897878  10.881535  10.477023  8.192930  \n",
       "2024-08-14  10.026630  8.906123  10.890416  10.506042  8.190157  \n",
       "\n",
       "[4581 rows x 11 columns]"
      ]
     },
     "execution_count": 73,
     "metadata": {},
     "output_type": "execute_result"
    }
   ],
   "source": [
    "original_data"
   ]
  },
  {
   "cell_type": "code",
   "execution_count": 78,
   "metadata": {},
   "outputs": [
    {
     "data": {
      "text/html": [
       "<div>\n",
       "<style scoped>\n",
       "    .dataframe tbody tr th:only-of-type {\n",
       "        vertical-align: middle;\n",
       "    }\n",
       "\n",
       "    .dataframe tbody tr th {\n",
       "        vertical-align: top;\n",
       "    }\n",
       "\n",
       "    .dataframe thead th {\n",
       "        text-align: right;\n",
       "    }\n",
       "</style>\n",
       "<table border=\"1\" class=\"dataframe\">\n",
       "  <thead>\n",
       "    <tr style=\"text-align: right;\">\n",
       "      <th>Ticker</th>\n",
       "      <th>Italy</th>\n",
       "      <th>T\\\"{u}rkiye</th>\n",
       "      <th>France</th>\n",
       "      <th>UK</th>\n",
       "      <th>Germany</th>\n",
       "      <th>US</th>\n",
       "      <th>Canada</th>\n",
       "      <th>Indonesia</th>\n",
       "      <th>Mexico</th>\n",
       "      <th>Japan</th>\n",
       "      <th>Nigeria</th>\n",
       "    </tr>\n",
       "  </thead>\n",
       "  <tbody>\n",
       "    <tr>\n",
       "      <th>2012-01-30</th>\n",
       "      <td>9.670104</td>\n",
       "      <td>6.346582</td>\n",
       "      <td>8.100459</td>\n",
       "      <td>8.654081</td>\n",
       "      <td>8.772539</td>\n",
       "      <td>7.182474</td>\n",
       "      <td>9.423167</td>\n",
       "      <td>8.290579</td>\n",
       "      <td>10.523347</td>\n",
       "      <td>9.082938</td>\n",
       "      <td>6.841754</td>\n",
       "    </tr>\n",
       "    <tr>\n",
       "      <th>2012-01-31</th>\n",
       "      <td>9.676524</td>\n",
       "      <td>6.367092</td>\n",
       "      <td>8.099254</td>\n",
       "      <td>8.643138</td>\n",
       "      <td>8.777870</td>\n",
       "      <td>7.180473</td>\n",
       "      <td>9.434963</td>\n",
       "      <td>8.272474</td>\n",
       "      <td>10.525650</td>\n",
       "      <td>9.080396</td>\n",
       "      <td>6.833269</td>\n",
       "    </tr>\n",
       "    <tr>\n",
       "      <th>2012-02-01</th>\n",
       "      <td>9.670483</td>\n",
       "      <td>6.347034</td>\n",
       "      <td>8.107816</td>\n",
       "      <td>8.644988</td>\n",
       "      <td>8.776931</td>\n",
       "      <td>7.179651</td>\n",
       "      <td>9.434340</td>\n",
       "      <td>8.279388</td>\n",
       "      <td>10.530099</td>\n",
       "      <td>9.081263</td>\n",
       "      <td>6.842363</td>\n",
       "    </tr>\n",
       "    <tr>\n",
       "      <th>2012-02-02</th>\n",
       "      <td>9.701616</td>\n",
       "      <td>6.383964</td>\n",
       "      <td>8.127591</td>\n",
       "      <td>8.664008</td>\n",
       "      <td>8.800875</td>\n",
       "      <td>7.188594</td>\n",
       "      <td>9.434699</td>\n",
       "      <td>8.285369</td>\n",
       "      <td>10.537666</td>\n",
       "      <td>9.089898</td>\n",
       "      <td>6.841808</td>\n",
       "    </tr>\n",
       "    <tr>\n",
       "      <th>2012-02-03</th>\n",
       "      <td>9.695971</td>\n",
       "      <td>6.394797</td>\n",
       "      <td>8.122855</td>\n",
       "      <td>8.664941</td>\n",
       "      <td>8.802307</td>\n",
       "      <td>7.190080</td>\n",
       "      <td>9.439919</td>\n",
       "      <td>8.298199</td>\n",
       "      <td>10.537736</td>\n",
       "      <td>9.088079</td>\n",
       "      <td>6.843878</td>\n",
       "    </tr>\n",
       "    <tr>\n",
       "      <th>...</th>\n",
       "      <td>...</td>\n",
       "      <td>...</td>\n",
       "      <td>...</td>\n",
       "      <td>...</td>\n",
       "      <td>...</td>\n",
       "      <td>...</td>\n",
       "      <td>...</td>\n",
       "      <td>...</td>\n",
       "      <td>...</td>\n",
       "      <td>...</td>\n",
       "      <td>...</td>\n",
       "    </tr>\n",
       "    <tr>\n",
       "      <th>2024-08-10</th>\n",
       "      <td>10.367662</td>\n",
       "      <td>9.226214</td>\n",
       "      <td>8.890094</td>\n",
       "      <td>9.005160</td>\n",
       "      <td>9.779788</td>\n",
       "      <td>8.578224</td>\n",
       "      <td>10.009891</td>\n",
       "      <td>8.884608</td>\n",
       "      <td>10.875643</td>\n",
       "      <td>10.470854</td>\n",
       "      <td>8.194414</td>\n",
       "    </tr>\n",
       "    <tr>\n",
       "      <th>2024-08-11</th>\n",
       "      <td>10.367662</td>\n",
       "      <td>9.226214</td>\n",
       "      <td>8.890094</td>\n",
       "      <td>9.005160</td>\n",
       "      <td>9.779788</td>\n",
       "      <td>8.578224</td>\n",
       "      <td>10.009891</td>\n",
       "      <td>8.884608</td>\n",
       "      <td>10.875643</td>\n",
       "      <td>10.470854</td>\n",
       "      <td>8.194414</td>\n",
       "    </tr>\n",
       "    <tr>\n",
       "      <th>2024-08-12</th>\n",
       "      <td>10.370016</td>\n",
       "      <td>9.208358</td>\n",
       "      <td>8.895197</td>\n",
       "      <td>9.007992</td>\n",
       "      <td>9.786056</td>\n",
       "      <td>8.585203</td>\n",
       "      <td>10.014197</td>\n",
       "      <td>8.890844</td>\n",
       "      <td>10.879662</td>\n",
       "      <td>10.470854</td>\n",
       "      <td>8.199714</td>\n",
       "    </tr>\n",
       "    <tr>\n",
       "      <th>2024-08-13</th>\n",
       "      <td>10.375926</td>\n",
       "      <td>9.194435</td>\n",
       "      <td>8.892570</td>\n",
       "      <td>9.013145</td>\n",
       "      <td>9.786935</td>\n",
       "      <td>8.589882</td>\n",
       "      <td>10.018587</td>\n",
       "      <td>8.897878</td>\n",
       "      <td>10.881535</td>\n",
       "      <td>10.477023</td>\n",
       "      <td>8.192930</td>\n",
       "    </tr>\n",
       "    <tr>\n",
       "      <th>2024-08-14</th>\n",
       "      <td>10.379349</td>\n",
       "      <td>9.208008</td>\n",
       "      <td>8.899753</td>\n",
       "      <td>9.016173</td>\n",
       "      <td>9.791560</td>\n",
       "      <td>8.601968</td>\n",
       "      <td>10.026630</td>\n",
       "      <td>8.906123</td>\n",
       "      <td>10.890416</td>\n",
       "      <td>10.506042</td>\n",
       "      <td>8.190157</td>\n",
       "    </tr>\n",
       "  </tbody>\n",
       "</table>\n",
       "<p>4581 rows × 11 columns</p>\n",
       "</div>"
      ],
      "text/plain": [
       "Ticker          Italy  T\\\"{u}rkiye    France        UK   Germany        US  \\\n",
       "2012-01-30   9.670104     6.346582  8.100459  8.654081  8.772539  7.182474   \n",
       "2012-01-31   9.676524     6.367092  8.099254  8.643138  8.777870  7.180473   \n",
       "2012-02-01   9.670483     6.347034  8.107816  8.644988  8.776931  7.179651   \n",
       "2012-02-02   9.701616     6.383964  8.127591  8.664008  8.800875  7.188594   \n",
       "2012-02-03   9.695971     6.394797  8.122855  8.664941  8.802307  7.190080   \n",
       "...               ...          ...       ...       ...       ...       ...   \n",
       "2024-08-10  10.367662     9.226214  8.890094  9.005160  9.779788  8.578224   \n",
       "2024-08-11  10.367662     9.226214  8.890094  9.005160  9.779788  8.578224   \n",
       "2024-08-12  10.370016     9.208358  8.895197  9.007992  9.786056  8.585203   \n",
       "2024-08-13  10.375926     9.194435  8.892570  9.013145  9.786935  8.589882   \n",
       "2024-08-14  10.379349     9.208008  8.899753  9.016173  9.791560  8.601968   \n",
       "\n",
       "Ticker         Canada  Indonesia     Mexico      Japan   Nigeria  \n",
       "2012-01-30   9.423167   8.290579  10.523347   9.082938  6.841754  \n",
       "2012-01-31   9.434963   8.272474  10.525650   9.080396  6.833269  \n",
       "2012-02-01   9.434340   8.279388  10.530099   9.081263  6.842363  \n",
       "2012-02-02   9.434699   8.285369  10.537666   9.089898  6.841808  \n",
       "2012-02-03   9.439919   8.298199  10.537736   9.088079  6.843878  \n",
       "...               ...        ...        ...        ...       ...  \n",
       "2024-08-10  10.009891   8.884608  10.875643  10.470854  8.194414  \n",
       "2024-08-11  10.009891   8.884608  10.875643  10.470854  8.194414  \n",
       "2024-08-12  10.014197   8.890844  10.879662  10.470854  8.199714  \n",
       "2024-08-13  10.018587   8.897878  10.881535  10.477023  8.192930  \n",
       "2024-08-14  10.026630   8.906123  10.890416  10.506042  8.190157  \n",
       "\n",
       "[4581 rows x 11 columns]"
      ]
     },
     "execution_count": 78,
     "metadata": {},
     "output_type": "execute_result"
    }
   ],
   "source": [
    "df = pd.DataFrame.copy(original_data)\n",
    "df.rename(columns={'FTSEMIB.MI': \"Italy\", 'XU100.IS': r\"T\\\"{u}rkiye\", '^FCHI': \"France\", '^FTSE': \"UK\", '^GDAXI': \"Germany\", '^GSPC': \"US\", '^GSPTSE': \"Canada\", '^JKSE': \"Indonesia\", '^MXX': \"Mexico\", '^N225': \"Japan\", 'NSE30': \"Nigeria\"}, inplace=True)\n",
    "df"
   ]
  },
  {
   "cell_type": "code",
   "execution_count": 155,
   "metadata": {},
   "outputs": [
    {
     "data": {
      "text/plain": [
       "(2748, 916, 917)"
      ]
     },
     "execution_count": 155,
     "metadata": {},
     "output_type": "execute_result"
    }
   ],
   "source": [
    "# series = TimeSeries.from_dataframe(df, time_col='Date')\n",
    "series = TimeSeries.from_dataframe(df)\n",
    "train, val, test = series[:int(len(series)*0.6)], series[int(len(series)*0.6):int(len(series)*0.8)], series[int(len(series)*0.8):]\n",
    "len(train), len(val), len(test)"
   ]
  },
  {
   "cell_type": "code",
   "execution_count": 138,
   "metadata": {},
   "outputs": [
    {
     "data": {
      "text/html": [
       "<div><svg style=\"position: absolute; width: 0; height: 0; overflow: hidden\">\n",
       "<defs>\n",
       "<symbol id=\"icon-database\" viewBox=\"0 0 32 32\">\n",
       "<path d=\"M16 0c-8.837 0-16 2.239-16 5v4c0 2.761 7.163 5 16 5s16-2.239 16-5v-4c0-2.761-7.163-5-16-5z\"></path>\n",
       "<path d=\"M16 17c-8.837 0-16-2.239-16-5v6c0 2.761 7.163 5 16 5s16-2.239 16-5v-6c0 2.761-7.163 5-16 5z\"></path>\n",
       "<path d=\"M16 26c-8.837 0-16-2.239-16-5v6c0 2.761 7.163 5 16 5s16-2.239 16-5v-6c0 2.761-7.163 5-16 5z\"></path>\n",
       "</symbol>\n",
       "<symbol id=\"icon-file-text2\" viewBox=\"0 0 32 32\">\n",
       "<path d=\"M28.681 7.159c-0.694-0.947-1.662-2.053-2.724-3.116s-2.169-2.030-3.116-2.724c-1.612-1.182-2.393-1.319-2.841-1.319h-15.5c-1.378 0-2.5 1.121-2.5 2.5v27c0 1.378 1.122 2.5 2.5 2.5h23c1.378 0 2.5-1.122 2.5-2.5v-19.5c0-0.448-0.137-1.23-1.319-2.841zM24.543 5.457c0.959 0.959 1.712 1.825 2.268 2.543h-4.811v-4.811c0.718 0.556 1.584 1.309 2.543 2.268zM28 29.5c0 0.271-0.229 0.5-0.5 0.5h-23c-0.271 0-0.5-0.229-0.5-0.5v-27c0-0.271 0.229-0.5 0.5-0.5 0 0 15.499-0 15.5 0v7c0 0.552 0.448 1 1 1h7v19.5z\"></path>\n",
       "<path d=\"M23 26h-14c-0.552 0-1-0.448-1-1s0.448-1 1-1h14c0.552 0 1 0.448 1 1s-0.448 1-1 1z\"></path>\n",
       "<path d=\"M23 22h-14c-0.552 0-1-0.448-1-1s0.448-1 1-1h14c0.552 0 1 0.448 1 1s-0.448 1-1 1z\"></path>\n",
       "<path d=\"M23 18h-14c-0.552 0-1-0.448-1-1s0.448-1 1-1h14c0.552 0 1 0.448 1 1s-0.448 1-1 1z\"></path>\n",
       "</symbol>\n",
       "</defs>\n",
       "</svg>\n",
       "<style>/* CSS stylesheet for displaying xarray objects in jupyterlab.\n",
       " *\n",
       " */\n",
       "\n",
       ":root {\n",
       "  --xr-font-color0: var(--jp-content-font-color0, rgba(0, 0, 0, 1));\n",
       "  --xr-font-color2: var(--jp-content-font-color2, rgba(0, 0, 0, 0.54));\n",
       "  --xr-font-color3: var(--jp-content-font-color3, rgba(0, 0, 0, 0.38));\n",
       "  --xr-border-color: var(--jp-border-color2, #e0e0e0);\n",
       "  --xr-disabled-color: var(--jp-layout-color3, #bdbdbd);\n",
       "  --xr-background-color: var(--jp-layout-color0, white);\n",
       "  --xr-background-color-row-even: var(--jp-layout-color1, white);\n",
       "  --xr-background-color-row-odd: var(--jp-layout-color2, #eeeeee);\n",
       "}\n",
       "\n",
       "html[theme=dark],\n",
       "body[data-theme=dark],\n",
       "body.vscode-dark {\n",
       "  --xr-font-color0: rgba(255, 255, 255, 1);\n",
       "  --xr-font-color2: rgba(255, 255, 255, 0.54);\n",
       "  --xr-font-color3: rgba(255, 255, 255, 0.38);\n",
       "  --xr-border-color: #1F1F1F;\n",
       "  --xr-disabled-color: #515151;\n",
       "  --xr-background-color: #111111;\n",
       "  --xr-background-color-row-even: #111111;\n",
       "  --xr-background-color-row-odd: #313131;\n",
       "}\n",
       "\n",
       ".xr-wrap {\n",
       "  display: block !important;\n",
       "  min-width: 300px;\n",
       "  max-width: 700px;\n",
       "}\n",
       "\n",
       ".xr-text-repr-fallback {\n",
       "  /* fallback to plain text repr when CSS is not injected (untrusted notebook) */\n",
       "  display: none;\n",
       "}\n",
       "\n",
       ".xr-header {\n",
       "  padding-top: 6px;\n",
       "  padding-bottom: 6px;\n",
       "  margin-bottom: 4px;\n",
       "  border-bottom: solid 1px var(--xr-border-color);\n",
       "}\n",
       "\n",
       ".xr-header > div,\n",
       ".xr-header > ul {\n",
       "  display: inline;\n",
       "  margin-top: 0;\n",
       "  margin-bottom: 0;\n",
       "}\n",
       "\n",
       ".xr-obj-type,\n",
       ".xr-array-name {\n",
       "  margin-left: 2px;\n",
       "  margin-right: 10px;\n",
       "}\n",
       "\n",
       ".xr-obj-type {\n",
       "  color: var(--xr-font-color2);\n",
       "}\n",
       "\n",
       ".xr-sections {\n",
       "  padding-left: 0 !important;\n",
       "  display: grid;\n",
       "  grid-template-columns: 150px auto auto 1fr 20px 20px;\n",
       "}\n",
       "\n",
       ".xr-section-item {\n",
       "  display: contents;\n",
       "}\n",
       "\n",
       ".xr-section-item input {\n",
       "  display: none;\n",
       "}\n",
       "\n",
       ".xr-section-item input + label {\n",
       "  color: var(--xr-disabled-color);\n",
       "}\n",
       "\n",
       ".xr-section-item input:enabled + label {\n",
       "  cursor: pointer;\n",
       "  color: var(--xr-font-color2);\n",
       "}\n",
       "\n",
       ".xr-section-item input:enabled + label:hover {\n",
       "  color: var(--xr-font-color0);\n",
       "}\n",
       "\n",
       ".xr-section-summary {\n",
       "  grid-column: 1;\n",
       "  color: var(--xr-font-color2);\n",
       "  font-weight: 500;\n",
       "}\n",
       "\n",
       ".xr-section-summary > span {\n",
       "  display: inline-block;\n",
       "  padding-left: 0.5em;\n",
       "}\n",
       "\n",
       ".xr-section-summary-in:disabled + label {\n",
       "  color: var(--xr-font-color2);\n",
       "}\n",
       "\n",
       ".xr-section-summary-in + label:before {\n",
       "  display: inline-block;\n",
       "  content: '►';\n",
       "  font-size: 11px;\n",
       "  width: 15px;\n",
       "  text-align: center;\n",
       "}\n",
       "\n",
       ".xr-section-summary-in:disabled + label:before {\n",
       "  color: var(--xr-disabled-color);\n",
       "}\n",
       "\n",
       ".xr-section-summary-in:checked + label:before {\n",
       "  content: '▼';\n",
       "}\n",
       "\n",
       ".xr-section-summary-in:checked + label > span {\n",
       "  display: none;\n",
       "}\n",
       "\n",
       ".xr-section-summary,\n",
       ".xr-section-inline-details {\n",
       "  padding-top: 4px;\n",
       "  padding-bottom: 4px;\n",
       "}\n",
       "\n",
       ".xr-section-inline-details {\n",
       "  grid-column: 2 / -1;\n",
       "}\n",
       "\n",
       ".xr-section-details {\n",
       "  display: none;\n",
       "  grid-column: 1 / -1;\n",
       "  margin-bottom: 5px;\n",
       "}\n",
       "\n",
       ".xr-section-summary-in:checked ~ .xr-section-details {\n",
       "  display: contents;\n",
       "}\n",
       "\n",
       ".xr-array-wrap {\n",
       "  grid-column: 1 / -1;\n",
       "  display: grid;\n",
       "  grid-template-columns: 20px auto;\n",
       "}\n",
       "\n",
       ".xr-array-wrap > label {\n",
       "  grid-column: 1;\n",
       "  vertical-align: top;\n",
       "}\n",
       "\n",
       ".xr-preview {\n",
       "  color: var(--xr-font-color3);\n",
       "}\n",
       "\n",
       ".xr-array-preview,\n",
       ".xr-array-data {\n",
       "  padding: 0 5px !important;\n",
       "  grid-column: 2;\n",
       "}\n",
       "\n",
       ".xr-array-data,\n",
       ".xr-array-in:checked ~ .xr-array-preview {\n",
       "  display: none;\n",
       "}\n",
       "\n",
       ".xr-array-in:checked ~ .xr-array-data,\n",
       ".xr-array-preview {\n",
       "  display: inline-block;\n",
       "}\n",
       "\n",
       ".xr-dim-list {\n",
       "  display: inline-block !important;\n",
       "  list-style: none;\n",
       "  padding: 0 !important;\n",
       "  margin: 0;\n",
       "}\n",
       "\n",
       ".xr-dim-list li {\n",
       "  display: inline-block;\n",
       "  padding: 0;\n",
       "  margin: 0;\n",
       "}\n",
       "\n",
       ".xr-dim-list:before {\n",
       "  content: '(';\n",
       "}\n",
       "\n",
       ".xr-dim-list:after {\n",
       "  content: ')';\n",
       "}\n",
       "\n",
       ".xr-dim-list li:not(:last-child):after {\n",
       "  content: ',';\n",
       "  padding-right: 5px;\n",
       "}\n",
       "\n",
       ".xr-has-index {\n",
       "  font-weight: bold;\n",
       "}\n",
       "\n",
       ".xr-var-list,\n",
       ".xr-var-item {\n",
       "  display: contents;\n",
       "}\n",
       "\n",
       ".xr-var-item > div,\n",
       ".xr-var-item label,\n",
       ".xr-var-item > .xr-var-name span {\n",
       "  background-color: var(--xr-background-color-row-even);\n",
       "  margin-bottom: 0;\n",
       "}\n",
       "\n",
       ".xr-var-item > .xr-var-name:hover span {\n",
       "  padding-right: 5px;\n",
       "}\n",
       "\n",
       ".xr-var-list > li:nth-child(odd) > div,\n",
       ".xr-var-list > li:nth-child(odd) > label,\n",
       ".xr-var-list > li:nth-child(odd) > .xr-var-name span {\n",
       "  background-color: var(--xr-background-color-row-odd);\n",
       "}\n",
       "\n",
       ".xr-var-name {\n",
       "  grid-column: 1;\n",
       "}\n",
       "\n",
       ".xr-var-dims {\n",
       "  grid-column: 2;\n",
       "}\n",
       "\n",
       ".xr-var-dtype {\n",
       "  grid-column: 3;\n",
       "  text-align: right;\n",
       "  color: var(--xr-font-color2);\n",
       "}\n",
       "\n",
       ".xr-var-preview {\n",
       "  grid-column: 4;\n",
       "}\n",
       "\n",
       ".xr-index-preview {\n",
       "  grid-column: 2 / 5;\n",
       "  color: var(--xr-font-color2);\n",
       "}\n",
       "\n",
       ".xr-var-name,\n",
       ".xr-var-dims,\n",
       ".xr-var-dtype,\n",
       ".xr-preview,\n",
       ".xr-attrs dt {\n",
       "  white-space: nowrap;\n",
       "  overflow: hidden;\n",
       "  text-overflow: ellipsis;\n",
       "  padding-right: 10px;\n",
       "}\n",
       "\n",
       ".xr-var-name:hover,\n",
       ".xr-var-dims:hover,\n",
       ".xr-var-dtype:hover,\n",
       ".xr-attrs dt:hover {\n",
       "  overflow: visible;\n",
       "  width: auto;\n",
       "  z-index: 1;\n",
       "}\n",
       "\n",
       ".xr-var-attrs,\n",
       ".xr-var-data,\n",
       ".xr-index-data {\n",
       "  display: none;\n",
       "  background-color: var(--xr-background-color) !important;\n",
       "  padding-bottom: 5px !important;\n",
       "}\n",
       "\n",
       ".xr-var-attrs-in:checked ~ .xr-var-attrs,\n",
       ".xr-var-data-in:checked ~ .xr-var-data,\n",
       ".xr-index-data-in:checked ~ .xr-index-data {\n",
       "  display: block;\n",
       "}\n",
       "\n",
       ".xr-var-data > table {\n",
       "  float: right;\n",
       "}\n",
       "\n",
       ".xr-var-name span,\n",
       ".xr-var-data,\n",
       ".xr-index-name div,\n",
       ".xr-index-data,\n",
       ".xr-attrs {\n",
       "  padding-left: 25px !important;\n",
       "}\n",
       "\n",
       ".xr-attrs,\n",
       ".xr-var-attrs,\n",
       ".xr-var-data,\n",
       ".xr-index-data {\n",
       "  grid-column: 1 / -1;\n",
       "}\n",
       "\n",
       "dl.xr-attrs {\n",
       "  padding: 0;\n",
       "  margin: 0;\n",
       "  display: grid;\n",
       "  grid-template-columns: 125px auto;\n",
       "}\n",
       "\n",
       ".xr-attrs dt,\n",
       ".xr-attrs dd {\n",
       "  padding: 0;\n",
       "  margin: 0;\n",
       "  float: left;\n",
       "  padding-right: 10px;\n",
       "  width: auto;\n",
       "}\n",
       "\n",
       ".xr-attrs dt {\n",
       "  font-weight: normal;\n",
       "  grid-column: 1;\n",
       "}\n",
       "\n",
       ".xr-attrs dt:hover span {\n",
       "  display: inline-block;\n",
       "  background: var(--xr-background-color);\n",
       "  padding-right: 10px;\n",
       "}\n",
       "\n",
       ".xr-attrs dd {\n",
       "  grid-column: 2;\n",
       "  white-space: pre-wrap;\n",
       "  word-break: break-all;\n",
       "}\n",
       "\n",
       ".xr-icon-database,\n",
       ".xr-icon-file-text2,\n",
       ".xr-no-icon {\n",
       "  display: inline-block;\n",
       "  vertical-align: middle;\n",
       "  width: 1em;\n",
       "  height: 1.5em !important;\n",
       "  stroke-width: 0;\n",
       "  stroke: currentColor;\n",
       "  fill: currentColor;\n",
       "}\n",
       "</style><pre class='xr-text-repr-fallback'>&lt;TimeSeries (DataArray) (time: 2748, component: 1, sample: 1)&gt; Size: 22kB\n",
       "array([[[9.67010425]],\n",
       "\n",
       "       [[9.67652422]],\n",
       "\n",
       "       [[9.67048304]],\n",
       "\n",
       "       ...,\n",
       "\n",
       "       [[9.94338112]],\n",
       "\n",
       "       [[9.93639027]],\n",
       "\n",
       "       [[9.93967482]]])\n",
       "Coordinates:\n",
       "  * time       (time) datetime64[ns] 22kB 2012-01-30 2012-01-31 ... 2019-08-08\n",
       "  * component  (component) object 8B &#x27;Italy&#x27;\n",
       "Dimensions without coordinates: sample\n",
       "Attributes:\n",
       "    static_covariates:  None\n",
       "    hierarchy:          None</pre><div class='xr-wrap' style='display:none'><div class='xr-header'><div class='xr-obj-type'>TimeSeries (DataArray)</div><div class='xr-array-name'></div><ul class='xr-dim-list'><li><span class='xr-has-index'>time</span>: 2748</li><li><span class='xr-has-index'>component</span>: 1</li><li><span>sample</span>: 1</li></ul></div><ul class='xr-sections'><li class='xr-section-item'><div class='xr-array-wrap'><input id='section-af24f288-0ba0-4c4a-9440-2fcf2976988d' class='xr-array-in' type='checkbox' checked><label for='section-af24f288-0ba0-4c4a-9440-2fcf2976988d' title='Show/hide data repr'><svg class='icon xr-icon-database'><use xlink:href='#icon-database'></use></svg></label><div class='xr-array-preview xr-preview'><span>9.67 9.677 9.67 9.702 9.696 9.696 ... 9.96 9.96 9.947 9.943 9.936 9.94</span></div><div class='xr-array-data'><pre>array([[[9.67010425]],\n",
       "\n",
       "       [[9.67652422]],\n",
       "\n",
       "       [[9.67048304]],\n",
       "\n",
       "       ...,\n",
       "\n",
       "       [[9.94338112]],\n",
       "\n",
       "       [[9.93639027]],\n",
       "\n",
       "       [[9.93967482]]])</pre></div></div></li><li class='xr-section-item'><input id='section-3093a397-4776-49c3-8521-ccdd9eccae0f' class='xr-section-summary-in' type='checkbox'  checked><label for='section-3093a397-4776-49c3-8521-ccdd9eccae0f' class='xr-section-summary' >Coordinates: <span>(2)</span></label><div class='xr-section-inline-details'></div><div class='xr-section-details'><ul class='xr-var-list'><li class='xr-var-item'><div class='xr-var-name'><span class='xr-has-index'>time</span></div><div class='xr-var-dims'>(time)</div><div class='xr-var-dtype'>datetime64[ns]</div><div class='xr-var-preview xr-preview'>2012-01-30 ... 2019-08-08</div><input id='attrs-8b9d70a6-856b-4532-b2f7-072137a27a36' class='xr-var-attrs-in' type='checkbox' disabled><label for='attrs-8b9d70a6-856b-4532-b2f7-072137a27a36' title='Show/Hide attributes'><svg class='icon xr-icon-file-text2'><use xlink:href='#icon-file-text2'></use></svg></label><input id='data-656c0a13-4bb3-4413-9665-5695cf057e1d' class='xr-var-data-in' type='checkbox'><label for='data-656c0a13-4bb3-4413-9665-5695cf057e1d' title='Show/Hide data repr'><svg class='icon xr-icon-database'><use xlink:href='#icon-database'></use></svg></label><div class='xr-var-attrs'><dl class='xr-attrs'></dl></div><div class='xr-var-data'><pre>array([&#x27;2012-01-30T00:00:00.000000000&#x27;, &#x27;2012-01-31T00:00:00.000000000&#x27;,\n",
       "       &#x27;2012-02-01T00:00:00.000000000&#x27;, ..., &#x27;2019-08-06T00:00:00.000000000&#x27;,\n",
       "       &#x27;2019-08-07T00:00:00.000000000&#x27;, &#x27;2019-08-08T00:00:00.000000000&#x27;],\n",
       "      dtype=&#x27;datetime64[ns]&#x27;)</pre></div></li><li class='xr-var-item'><div class='xr-var-name'><span class='xr-has-index'>component</span></div><div class='xr-var-dims'>(component)</div><div class='xr-var-dtype'>object</div><div class='xr-var-preview xr-preview'>&#x27;Italy&#x27;</div><input id='attrs-6d7f1692-faf7-48b7-9865-cc9a86906208' class='xr-var-attrs-in' type='checkbox' disabled><label for='attrs-6d7f1692-faf7-48b7-9865-cc9a86906208' title='Show/Hide attributes'><svg class='icon xr-icon-file-text2'><use xlink:href='#icon-file-text2'></use></svg></label><input id='data-42b06450-6486-49e0-a483-29b56d58f93f' class='xr-var-data-in' type='checkbox'><label for='data-42b06450-6486-49e0-a483-29b56d58f93f' title='Show/Hide data repr'><svg class='icon xr-icon-database'><use xlink:href='#icon-database'></use></svg></label><div class='xr-var-attrs'><dl class='xr-attrs'></dl></div><div class='xr-var-data'><pre>array([&#x27;Italy&#x27;], dtype=object)</pre></div></li></ul></div></li><li class='xr-section-item'><input id='section-5a6d45f9-ef8c-484a-8799-5006f1ff2d1a' class='xr-section-summary-in' type='checkbox'  ><label for='section-5a6d45f9-ef8c-484a-8799-5006f1ff2d1a' class='xr-section-summary' >Indexes: <span>(2)</span></label><div class='xr-section-inline-details'></div><div class='xr-section-details'><ul class='xr-var-list'><li class='xr-var-item'><div class='xr-index-name'><div>time</div></div><div class='xr-index-preview'>PandasIndex</div><div></div><input id='index-069d60cc-2e63-4199-9a06-b189ed549eb4' class='xr-index-data-in' type='checkbox'/><label for='index-069d60cc-2e63-4199-9a06-b189ed549eb4' title='Show/Hide index repr'><svg class='icon xr-icon-database'><use xlink:href='#icon-database'></use></svg></label><div class='xr-index-data'><pre>PandasIndex(DatetimeIndex([&#x27;2012-01-30&#x27;, &#x27;2012-01-31&#x27;, &#x27;2012-02-01&#x27;, &#x27;2012-02-02&#x27;,\n",
       "               &#x27;2012-02-03&#x27;, &#x27;2012-02-04&#x27;, &#x27;2012-02-05&#x27;, &#x27;2012-02-06&#x27;,\n",
       "               &#x27;2012-02-07&#x27;, &#x27;2012-02-08&#x27;,\n",
       "               ...\n",
       "               &#x27;2019-07-30&#x27;, &#x27;2019-07-31&#x27;, &#x27;2019-08-01&#x27;, &#x27;2019-08-02&#x27;,\n",
       "               &#x27;2019-08-03&#x27;, &#x27;2019-08-04&#x27;, &#x27;2019-08-05&#x27;, &#x27;2019-08-06&#x27;,\n",
       "               &#x27;2019-08-07&#x27;, &#x27;2019-08-08&#x27;],\n",
       "              dtype=&#x27;datetime64[ns]&#x27;, name=&#x27;time&#x27;, length=2748, freq=&#x27;D&#x27;))</pre></div></li><li class='xr-var-item'><div class='xr-index-name'><div>component</div></div><div class='xr-index-preview'>PandasIndex</div><div></div><input id='index-0fb99bfd-ea64-4487-8da3-e7381edadf40' class='xr-index-data-in' type='checkbox'/><label for='index-0fb99bfd-ea64-4487-8da3-e7381edadf40' title='Show/Hide index repr'><svg class='icon xr-icon-database'><use xlink:href='#icon-database'></use></svg></label><div class='xr-index-data'><pre>PandasIndex(Index([&#x27;Italy&#x27;], dtype=&#x27;object&#x27;, name=&#x27;component&#x27;))</pre></div></li></ul></div></li><li class='xr-section-item'><input id='section-eb05868f-8cd9-403c-9d1f-4a38c0bdd52a' class='xr-section-summary-in' type='checkbox'  checked><label for='section-eb05868f-8cd9-403c-9d1f-4a38c0bdd52a' class='xr-section-summary' >Attributes: <span>(2)</span></label><div class='xr-section-inline-details'></div><div class='xr-section-details'><dl class='xr-attrs'><dt><span>static_covariates :</span></dt><dd>None</dd><dt><span>hierarchy :</span></dt><dd>None</dd></dl></div></li></ul></div></div>"
      ],
      "text/plain": [
       "<TimeSeries (DataArray) (time: 2748, component: 1, sample: 1)> Size: 22kB\n",
       "array([[[9.67010425]],\n",
       "\n",
       "       [[9.67652422]],\n",
       "\n",
       "       [[9.67048304]],\n",
       "\n",
       "       ...,\n",
       "\n",
       "       [[9.94338112]],\n",
       "\n",
       "       [[9.93639027]],\n",
       "\n",
       "       [[9.93967482]]])\n",
       "Coordinates:\n",
       "  * time       (time) datetime64[ns] 22kB 2012-01-30 2012-01-31 ... 2019-08-08\n",
       "  * component  (component) object 8B 'Italy'\n",
       "Dimensions without coordinates: sample\n",
       "Attributes:\n",
       "    static_covariates:  None\n",
       "    hierarchy:          None"
      ]
     },
     "execution_count": 138,
     "metadata": {},
     "output_type": "execute_result"
    }
   ],
   "source": [
    "train['Italy']"
   ]
  },
  {
   "cell_type": "code",
   "execution_count": 288,
   "metadata": {},
   "outputs": [],
   "source": [
    "metric_collection = MetricCollection(\n",
    "    MeanAbsoluteError(), \n",
    "    WeightedMeanAbsolutePercentageError(),\n",
    ")\n",
    "# model = RNNModel(input_chunk_length=4*7, model='GRU', hidden_dim=25, n_rnn_layers=2, dropout=0.1,\n",
    "#                  training_length=4*7+10, batch_size=8, n_epochs=50,\n",
    "#                  torch_metrics=metric_collection,\n",
    "#                 )\n",
    "model = TCNModel(input_chunk_length=24*7, output_chunk_length=1, n_epochs=20, torch_metrics=metric_collection)"
   ]
  },
  {
   "cell_type": "code",
   "execution_count": 289,
   "metadata": {},
   "outputs": [
    {
     "name": "stderr",
     "output_type": "stream",
     "text": [
      "GPU available: True (cuda), used: True\n",
      "TPU available: False, using: 0 TPU cores\n",
      "HPU available: False, using: 0 HPUs\n",
      "LOCAL_RANK: 0 - CUDA_VISIBLE_DEVICES: [0]\n",
      "\n",
      "  | Name            | Type             | Params | Mode \n",
      "-------------------------------------------------------------\n",
      "0 | criterion       | MSELoss          | 0      | eval \n",
      "1 | train_criterion | MSELoss          | 0      | eval \n",
      "2 | val_criterion   | MSELoss          | 0      | eval \n",
      "3 | train_metrics   | MetricCollection | 0      | train\n",
      "4 | val_metrics     | MetricCollection | 0      | train\n",
      "5 | res_blocks      | ModuleList       | 592    | train\n",
      "-------------------------------------------------------------\n",
      "592       Trainable params\n",
      "0         Non-trainable params\n",
      "592       Total params\n",
      "0.002     Total estimated model params size (MB)\n"
     ]
    },
    {
     "data": {
      "application/vnd.jupyter.widget-view+json": {
       "model_id": "7eb57e8487e24f6d8d5d03b6fe15cd5d",
       "version_major": 2,
       "version_minor": 0
      },
      "text/plain": [
       "Sanity Checking: |          | 0/? [00:00<?, ?it/s]"
      ]
     },
     "metadata": {},
     "output_type": "display_data"
    },
    {
     "name": "stderr",
     "output_type": "stream",
     "text": [
      "/home/acs/miniforge3/envs/timeseries/lib/python3.11/site-packages/pytorch_lightning/core/module.py:518: You called `self.log('val_MeanAbsoluteError', ..., logger=True)` but have no logger configured. You can enable one by doing `Trainer(logger=ALogger(...))`\n",
      "/home/acs/miniforge3/envs/timeseries/lib/python3.11/site-packages/pytorch_lightning/core/module.py:518: You called `self.log('val_WeightedMeanAbsolutePercentageError', ..., logger=True)` but have no logger configured. You can enable one by doing `Trainer(logger=ALogger(...))`\n"
     ]
    },
    {
     "data": {
      "application/vnd.jupyter.widget-view+json": {
       "model_id": "48a4e16667344eda9fb0500d485ae361",
       "version_major": 2,
       "version_minor": 0
      },
      "text/plain": [
       "Training: |          | 0/? [00:00<?, ?it/s]"
      ]
     },
     "metadata": {},
     "output_type": "display_data"
    },
    {
     "data": {
      "application/vnd.jupyter.widget-view+json": {
       "model_id": "00924967c6cf4f05975f15f8273d7490",
       "version_major": 2,
       "version_minor": 0
      },
      "text/plain": [
       "Validation: |          | 0/? [00:00<?, ?it/s]"
      ]
     },
     "metadata": {},
     "output_type": "display_data"
    },
    {
     "name": "stderr",
     "output_type": "stream",
     "text": [
      "/home/acs/miniforge3/envs/timeseries/lib/python3.11/site-packages/pytorch_lightning/core/module.py:518: You called `self.log('train_MeanAbsoluteError', ..., logger=True)` but have no logger configured. You can enable one by doing `Trainer(logger=ALogger(...))`\n",
      "/home/acs/miniforge3/envs/timeseries/lib/python3.11/site-packages/pytorch_lightning/core/module.py:518: You called `self.log('train_WeightedMeanAbsolutePercentageError', ..., logger=True)` but have no logger configured. You can enable one by doing `Trainer(logger=ALogger(...))`\n"
     ]
    },
    {
     "data": {
      "application/vnd.jupyter.widget-view+json": {
       "model_id": "043059ea939c465d8bc2bed2038d48e3",
       "version_major": 2,
       "version_minor": 0
      },
      "text/plain": [
       "Validation: |          | 0/? [00:00<?, ?it/s]"
      ]
     },
     "metadata": {},
     "output_type": "display_data"
    },
    {
     "data": {
      "application/vnd.jupyter.widget-view+json": {
       "model_id": "675c7b8e98214640be56a33719c478ab",
       "version_major": 2,
       "version_minor": 0
      },
      "text/plain": [
       "Validation: |          | 0/? [00:00<?, ?it/s]"
      ]
     },
     "metadata": {},
     "output_type": "display_data"
    },
    {
     "data": {
      "application/vnd.jupyter.widget-view+json": {
       "model_id": "03369c8632e24babbd842e71fa6485fb",
       "version_major": 2,
       "version_minor": 0
      },
      "text/plain": [
       "Validation: |          | 0/? [00:00<?, ?it/s]"
      ]
     },
     "metadata": {},
     "output_type": "display_data"
    },
    {
     "data": {
      "application/vnd.jupyter.widget-view+json": {
       "model_id": "f37ad1273b2443849ed8b2e554b789a2",
       "version_major": 2,
       "version_minor": 0
      },
      "text/plain": [
       "Validation: |          | 0/? [00:00<?, ?it/s]"
      ]
     },
     "metadata": {},
     "output_type": "display_data"
    },
    {
     "data": {
      "application/vnd.jupyter.widget-view+json": {
       "model_id": "6413272c04ae4e7d9f28d18c65845f3b",
       "version_major": 2,
       "version_minor": 0
      },
      "text/plain": [
       "Validation: |          | 0/? [00:00<?, ?it/s]"
      ]
     },
     "metadata": {},
     "output_type": "display_data"
    },
    {
     "data": {
      "application/vnd.jupyter.widget-view+json": {
       "model_id": "38210ff1263747c5a6b232f41aa48dae",
       "version_major": 2,
       "version_minor": 0
      },
      "text/plain": [
       "Validation: |          | 0/? [00:00<?, ?it/s]"
      ]
     },
     "metadata": {},
     "output_type": "display_data"
    },
    {
     "data": {
      "application/vnd.jupyter.widget-view+json": {
       "model_id": "53e62ae5bbb14287bf4b4e2fb0ee5ffb",
       "version_major": 2,
       "version_minor": 0
      },
      "text/plain": [
       "Validation: |          | 0/? [00:00<?, ?it/s]"
      ]
     },
     "metadata": {},
     "output_type": "display_data"
    },
    {
     "data": {
      "application/vnd.jupyter.widget-view+json": {
       "model_id": "4bf3129e9a8f49ec92c2ac530d289ba2",
       "version_major": 2,
       "version_minor": 0
      },
      "text/plain": [
       "Validation: |          | 0/? [00:00<?, ?it/s]"
      ]
     },
     "metadata": {},
     "output_type": "display_data"
    },
    {
     "data": {
      "application/vnd.jupyter.widget-view+json": {
       "model_id": "f1abbe0901f34e64b62452a7ebd6843b",
       "version_major": 2,
       "version_minor": 0
      },
      "text/plain": [
       "Validation: |          | 0/? [00:00<?, ?it/s]"
      ]
     },
     "metadata": {},
     "output_type": "display_data"
    },
    {
     "data": {
      "application/vnd.jupyter.widget-view+json": {
       "model_id": "c46ea5f0c04c4ef2a8ced9e09a4aab90",
       "version_major": 2,
       "version_minor": 0
      },
      "text/plain": [
       "Validation: |          | 0/? [00:00<?, ?it/s]"
      ]
     },
     "metadata": {},
     "output_type": "display_data"
    },
    {
     "data": {
      "application/vnd.jupyter.widget-view+json": {
       "model_id": "a09e9bc1ded74cf1bc7ce09f8d29375e",
       "version_major": 2,
       "version_minor": 0
      },
      "text/plain": [
       "Validation: |          | 0/? [00:00<?, ?it/s]"
      ]
     },
     "metadata": {},
     "output_type": "display_data"
    },
    {
     "data": {
      "application/vnd.jupyter.widget-view+json": {
       "model_id": "34b1e1a2e89640049806945059250aae",
       "version_major": 2,
       "version_minor": 0
      },
      "text/plain": [
       "Validation: |          | 0/? [00:00<?, ?it/s]"
      ]
     },
     "metadata": {},
     "output_type": "display_data"
    },
    {
     "data": {
      "application/vnd.jupyter.widget-view+json": {
       "model_id": "bc5631bfb8e444a1a88d3c68c7e6ee1e",
       "version_major": 2,
       "version_minor": 0
      },
      "text/plain": [
       "Validation: |          | 0/? [00:00<?, ?it/s]"
      ]
     },
     "metadata": {},
     "output_type": "display_data"
    },
    {
     "data": {
      "application/vnd.jupyter.widget-view+json": {
       "model_id": "d60ae8a6a0e5468c93e81105c80125cb",
       "version_major": 2,
       "version_minor": 0
      },
      "text/plain": [
       "Validation: |          | 0/? [00:00<?, ?it/s]"
      ]
     },
     "metadata": {},
     "output_type": "display_data"
    },
    {
     "data": {
      "application/vnd.jupyter.widget-view+json": {
       "model_id": "96102d22a8824ace99403387974563a1",
       "version_major": 2,
       "version_minor": 0
      },
      "text/plain": [
       "Validation: |          | 0/? [00:00<?, ?it/s]"
      ]
     },
     "metadata": {},
     "output_type": "display_data"
    },
    {
     "data": {
      "application/vnd.jupyter.widget-view+json": {
       "model_id": "de48783f5586491f92d3eba40c5e619c",
       "version_major": 2,
       "version_minor": 0
      },
      "text/plain": [
       "Validation: |          | 0/? [00:00<?, ?it/s]"
      ]
     },
     "metadata": {},
     "output_type": "display_data"
    },
    {
     "data": {
      "application/vnd.jupyter.widget-view+json": {
       "model_id": "b6170ea1c4a64b3b8b9b9c0e76896c72",
       "version_major": 2,
       "version_minor": 0
      },
      "text/plain": [
       "Validation: |          | 0/? [00:00<?, ?it/s]"
      ]
     },
     "metadata": {},
     "output_type": "display_data"
    },
    {
     "data": {
      "application/vnd.jupyter.widget-view+json": {
       "model_id": "93ca455faa494a0b803a2e736f4d0583",
       "version_major": 2,
       "version_minor": 0
      },
      "text/plain": [
       "Validation: |          | 0/? [00:00<?, ?it/s]"
      ]
     },
     "metadata": {},
     "output_type": "display_data"
    },
    {
     "data": {
      "application/vnd.jupyter.widget-view+json": {
       "model_id": "e29e98e37d244baa87f210b3ea3448b1",
       "version_major": 2,
       "version_minor": 0
      },
      "text/plain": [
       "Validation: |          | 0/? [00:00<?, ?it/s]"
      ]
     },
     "metadata": {},
     "output_type": "display_data"
    },
    {
     "name": "stderr",
     "output_type": "stream",
     "text": [
      "`Trainer.fit` stopped: `max_epochs=20` reached.\n"
     ]
    },
    {
     "data": {
      "text/plain": [
       "TCNModel(output_chunk_shift=0, kernel_size=3, num_filters=3, num_layers=None, dilation_base=2, weight_norm=False, dropout=0.2, input_chunk_length=168, output_chunk_length=1, n_epochs=20, torch_metrics=MetricCollection(\n",
       "  (MeanAbsoluteError): MeanAbsoluteError()\n",
       "  (WeightedMeanAbsolutePercentageError): WeightedMeanAbsolutePercentageError()\n",
       "))"
      ]
     },
     "execution_count": 289,
     "metadata": {},
     "output_type": "execute_result"
    }
   ],
   "source": [
    "# model.fit(train)\n",
    "model.fit(train, val_series=val)"
   ]
  },
  {
   "cell_type": "code",
   "execution_count": 290,
   "metadata": {},
   "outputs": [
    {
     "name": "stderr",
     "output_type": "stream",
     "text": [
      "GPU available: True (cuda), used: True\n",
      "TPU available: False, using: 0 TPU cores\n",
      "HPU available: False, using: 0 HPUs\n",
      "LOCAL_RANK: 0 - CUDA_VISIBLE_DEVICES: [0]\n"
     ]
    },
    {
     "data": {
      "application/vnd.jupyter.widget-view+json": {
       "model_id": "babb99a8e86f43d4afb7380cfc5b3b27",
       "version_major": 2,
       "version_minor": 0
      },
      "text/plain": [
       "Predicting: |          | 0/? [00:00<?, ?it/s]"
      ]
     },
     "metadata": {},
     "output_type": "display_data"
    }
   ],
   "source": [
    "backtest_en = model.historical_forecasts(\n",
    "    series=series,\n",
    "    start=val.start_time(),\n",
    "    # past_covariates=day_series,\n",
    "    # num_samples=500,\n",
    "    forecast_horizon=1,\n",
    "    stride=1,\n",
    "    last_points_only=False,\n",
    "    retrain=False,\n",
    "    verbose=True,\n",
    ")\n",
    "backtest_en = concatenate(backtest_en)"
   ]
  },
  {
   "cell_type": "code",
   "execution_count": 291,
   "metadata": {},
   "outputs": [
    {
     "data": {
      "text/plain": [
       "<matplotlib.legend.Legend at 0x748a0d61d0d0>"
      ]
     },
     "execution_count": 291,
     "metadata": {},
     "output_type": "execute_result"
    },
    {
     "data": {
      "image/png": "[encoded data removed]",
      "text/plain": [
       "<Figure size 1000x600 with 1 Axes>"
      ]
     },
     "metadata": {},
     "output_type": "display_data"
    }
   ],
   "source": [
    "plt.figure(figsize=(10, 6))\n",
    "val['Italy'].plot(label=\"actual\")\n",
    "backtest_en['Italy'].plot(label=\"backtest q0.05 - q0.95\", low_quantile=0.05, high_quantile=0.95)\n",
    "backtest_en['Italy'].plot(label=\"backtest q0.25 - q0.75\", low_quantile=0.25, high_quantile=0.75)\n",
    "plt.legend()"
   ]
  },
  {
   "cell_type": "code",
   "execution_count": 295,
   "metadata": {},
   "outputs": [
    {
     "data": {
      "text/plain": [
       "<matplotlib.legend.Legend at 0x748a0ce05b10>"
      ]
     },
     "execution_count": 295,
     "metadata": {},
     "output_type": "execute_result"
    },
    {
     "data": {
      "image/png": "[encoded data removed]",
      "text/plain": [
       "<Figure size 1000x600 with 1 Axes>"
      ]
     },
     "metadata": {},
     "output_type": "display_data"
    }
   ],
   "source": [
    "plt.figure(figsize=(10, 6))\n",
    "val['Germany'].plot(label=\"actual\")\n",
    "backtest_en['Germany'].plot(label=\"backtest q0.05 - q0.95\", low_quantile=0.05, high_quantile=0.95)\n",
    "backtest_en['Germany'].plot(label=\"backtest q0.25 - q0.75\", low_quantile=0.25, high_quantile=0.75)\n",
    "plt.legend()"
   ]
  },
  {
   "cell_type": "code",
   "execution_count": 175,
   "metadata": {},
   "outputs": [
    {
     "name": "stderr",
     "output_type": "stream",
     "text": [
      "GPU available: True (cuda), used: True\n",
      "TPU available: False, using: 0 TPU cores\n",
      "HPU available: False, using: 0 HPUs\n",
      "LOCAL_RANK: 0 - CUDA_VISIBLE_DEVICES: [0]\n"
     ]
    },
    {
     "data": {
      "application/vnd.jupyter.widget-view+json": {
       "model_id": "e1355969b887499d9c7d305772eca554",
       "version_major": 2,
       "version_minor": 0
      },
      "text/plain": [
       "Predicting: |          | 0/? [00:00<?, ?it/s]"
      ]
     },
     "metadata": {},
     "output_type": "display_data"
    }
   ],
   "source": [
    "prediction = model.predict(len(val))"
   ]
  },
  {
   "cell_type": "code",
   "execution_count": 176,
   "metadata": {},
   "outputs": [
    {
     "data": {
      "text/plain": [
       "<matplotlib.legend.Legend at 0x748a5f5526d0>"
      ]
     },
     "execution_count": 176,
     "metadata": {},
     "output_type": "execute_result"
    },
    {
     "data": {
      "image/png": "[encoded data removed]",
      "text/plain": [
       "<Figure size 640x480 with 1 Axes>"
      ]
     },
     "metadata": {},
     "output_type": "display_data"
    }
   ],
   "source": [
    "series['Italy'].plot()\n",
    "# prediction[r\"T\\\"{u}rkiye\"].plot(label=\"forecast\", low_quantile=0.05, high_quantile=0.95)\n",
    "prediction['Italy'].plot(label=\"forecast\", low_quantile=0.05, high_quantile=0.95)\n",
    "plt.legend()"
   ]
  },
  {
   "cell_type": "code",
   "execution_count": null,
   "metadata": {},
   "outputs": [],
   "source": []
  }
 ],
 "metadata": {
  "kernelspec": {
   "display_name": "timeseries",
   "language": "python",
   "name": "python3"
  },
  "language_info": {
   "codemirror_mode": {
    "name": "ipython",
    "version": 3
   },
   "file_extension": ".py",
   "mimetype": "text/x-python",
   "name": "python",
   "nbconvert_exporter": "python",
   "pygments_lexer": "ipython3",
   "version": "3.11.9"
  }
 },
 "nbformat": 4,
 "nbformat_minor": 2
}
